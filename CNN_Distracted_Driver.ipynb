{
 "cells": [
  {
   "cell_type": "code",
   "execution_count": 1,
   "metadata": {},
   "outputs": [],
   "source": [
    "import pandas as pd\n",
    "from PIL import Image, ImageFilter\n",
    "from numpy import array\n",
    "from sklearn.model_selection import train_test_split\n",
    "import glob\n",
    "import numpy as np\n",
    "import os"
   ]
  },
  {
   "cell_type": "code",
   "execution_count": 3,
   "metadata": {
    "scrolled": true
   },
   "outputs": [
    {
     "name": "stdout",
     "output_type": "stream",
     "text": [
      "Load folder c0\n",
      "Number of train Images: 2489\n",
      "Load folder c1\n",
      "Number of train Images: 4756\n",
      "Load folder c2\n",
      "Number of train Images: 7073\n",
      "Load folder c3\n",
      "Number of train Images: 9419\n",
      "Load folder c4\n",
      "Number of train Images: 11745\n",
      "Load folder c5\n",
      "Number of train Images: 14057\n",
      "Load folder c6\n",
      "Number of train Images: 16382\n",
      "Load folder c7\n",
      "Number of train Images: 18384\n",
      "Load folder c8\n",
      "Number of train Images: 20295\n",
      "Load folder c9\n",
      "Number of train Images: 22424\n"
     ]
    },
    {
     "name": "stderr",
     "output_type": "stream",
     "text": [
      "C:\\Users\\buckf\\Anaconda3\\lib\\site-packages\\sklearn\\model_selection\\_split.py:2026: FutureWarning: From version 0.21, test_size will always complement train_size unless both are specified.\n",
      "  FutureWarning)\n"
     ]
    }
   ],
   "source": [
    "# Load in ALL train images and label them\n",
    "X = []\n",
    "y = []\n",
    "for j in range(10):\n",
    "    print('Load folder c{}'.format(j))\n",
    "    path = os.path.join('C:/Users/buckf/Documents/MSDS 686/Code/Distracted Driver Project/Data/imgs', 'train', 'c' + str(j), '*.jpg')\n",
    "    img_list = glob.glob(path)\n",
    "    for file in img_list:\n",
    "        img = Image.open(file).convert('L')\n",
    "        height, width = img.size\n",
    "        img.thumbnail((height/16, width/16), Image.ANTIALIAS)\n",
    "        pix = np.array(img.getdata()).reshape(img.size[0], img.size[1], 1)\n",
    "        X.append(pix)\n",
    "        y.append(j)\n",
    "    print(\"Number of train Images: %s\" % len(X))\n",
    "    \n",
    "X = np.array(X, dtype = 'float32')\n",
    "y = np.array(y, dtype = 'float32')\n",
    "X_train, X_val, y_train, y_val = train_test_split(X, y, train_size = 0.8, shuffle = True)"
   ]
  },
  {
   "cell_type": "code",
   "execution_count": 4,
   "metadata": {},
   "outputs": [],
   "source": [
    "#Standardize the Pixel Data\n",
    "X_train = X_train / 255\n",
    "X_val = X_val / 255"
   ]
  },
  {
   "cell_type": "code",
   "execution_count": 5,
   "metadata": {
    "scrolled": true
   },
   "outputs": [
    {
     "data": {
      "text/plain": [
       "(17939, 40, 30, 1)"
      ]
     },
     "execution_count": 5,
     "metadata": {},
     "output_type": "execute_result"
    }
   ],
   "source": [
    "X_train.shape"
   ]
  },
  {
   "cell_type": "code",
   "execution_count": 6,
   "metadata": {},
   "outputs": [
    {
     "name": "stderr",
     "output_type": "stream",
     "text": [
      "C:\\Users\\buckf\\Anaconda3\\lib\\site-packages\\h5py\\__init__.py:36: FutureWarning: Conversion of the second argument of issubdtype from `float` to `np.floating` is deprecated. In future, it will be treated as `np.float64 == np.dtype(float).type`.\n",
      "  from ._conv import register_converters as _register_converters\n",
      "Using TensorFlow backend.\n"
     ]
    }
   ],
   "source": [
    "import time\n",
    "import numpy\n",
    "from keras.datasets import mnist\n",
    "from keras.models import Model\n",
    "from keras.layers import Input, Concatenate, Dense, Dropout, Flatten, Activation\n",
    "from keras.layers.convolutional import Conv2D, MaxPooling2D\n",
    "from keras.layers.normalization import BatchNormalization\n",
    "from keras.utils import to_categorical\n",
    "from keras import backend as K\n",
    "from keras.optimizers import Adam\n",
    "from keras.models import Sequential\n",
    "from keras.layers import Dense\n",
    "from keras.layers import Dropout\n",
    "from keras.preprocessing.image import ImageDataGenerator\n",
    "\n",
    "import keras.utils as np_utils"
   ]
  },
  {
   "cell_type": "code",
   "execution_count": 7,
   "metadata": {},
   "outputs": [],
   "source": [
    "#Make targets a categorical array.\n",
    "y_train = to_categorical(y_train)\n",
    "y_val = to_categorical(y_val)"
   ]
  },
  {
   "cell_type": "code",
   "execution_count": 8,
   "metadata": {},
   "outputs": [
    {
     "name": "stdout",
     "output_type": "stream",
     "text": [
      "(17939, 10)\n",
      "[0. 0. 0. 1. 0. 0. 0. 0. 0. 0.]\n"
     ]
    }
   ],
   "source": [
    "print(y_train.shape)\n",
    "print(y_train[2])"
   ]
  },
  {
   "cell_type": "code",
   "execution_count": 10,
   "metadata": {
    "scrolled": true
   },
   "outputs": [
    {
     "name": "stdout",
     "output_type": "stream",
     "text": [
      "(17939, 40, 30, 1)\n",
      "[[[0.08627451]\n",
      "  [0.09803922]\n",
      "  [0.11372549]\n",
      "  ...\n",
      "  [0.5882353 ]\n",
      "  [0.4       ]\n",
      "  [0.31764707]]\n",
      "\n",
      " [[0.3647059 ]\n",
      "  [0.4       ]\n",
      "  [0.54901963]\n",
      "  ...\n",
      "  [0.73333335]\n",
      "  [0.76862746]\n",
      "  [0.69803923]]\n",
      "\n",
      " [[0.73333335]\n",
      "  [0.77254903]\n",
      "  [0.69803923]\n",
      "  ...\n",
      "  [0.5568628 ]\n",
      "  [0.4       ]\n",
      "  [0.11764706]]\n",
      "\n",
      " ...\n",
      "\n",
      " [[0.05882353]\n",
      "  [0.04313726]\n",
      "  [0.03921569]\n",
      "  ...\n",
      "  [0.10196079]\n",
      "  [0.21568628]\n",
      "  [0.54901963]]\n",
      "\n",
      " [[0.5058824 ]\n",
      "  [0.34117648]\n",
      "  [0.49803922]\n",
      "  ...\n",
      "  [0.02352941]\n",
      "  [0.03529412]\n",
      "  [0.05882353]]\n",
      "\n",
      " [[0.0627451 ]\n",
      "  [0.08235294]\n",
      "  [0.09803922]\n",
      "  ...\n",
      "  [0.10196079]\n",
      "  [0.02352941]\n",
      "  [0.03529412]]]\n"
     ]
    }
   ],
   "source": [
    "print(X_train.shape)\n",
    "print(X_train[2])"
   ]
  },
  {
   "cell_type": "code",
   "execution_count": 12,
   "metadata": {
    "scrolled": true
   },
   "outputs": [
    {
     "name": "stdout",
     "output_type": "stream",
     "text": [
      "Train on 17939 samples, validate on 4485 samples\n",
      "Epoch 1/20\n",
      "17939/17939 [==============================] - 84s 5ms/step - loss: 0.4640 - acc: 0.8520 - val_loss: 0.1132 - val_acc: 0.9679\n",
      "Epoch 2/20\n",
      "17939/17939 [==============================] - 79s 4ms/step - loss: 0.0871 - acc: 0.9750 - val_loss: 0.0934 - val_acc: 0.9753\n",
      "Epoch 3/20\n",
      "17939/17939 [==============================] - 78s 4ms/step - loss: 0.0493 - acc: 0.9865 - val_loss: 0.0645 - val_acc: 0.9810\n",
      "Epoch 4/20\n",
      "17939/17939 [==============================] - 78s 4ms/step - loss: 0.0562 - acc: 0.9857 - val_loss: 0.1171 - val_acc: 0.9744\n",
      "Epoch 5/20\n",
      "17939/17939 [==============================] - 77s 4ms/step - loss: 0.0276 - acc: 0.9925 - val_loss: 0.0877 - val_acc: 0.9848\n",
      "Epoch 6/20\n",
      "17939/17939 [==============================] - 77s 4ms/step - loss: 0.0402 - acc: 0.9915 - val_loss: 0.1271 - val_acc: 0.9730\n",
      "Epoch 7/20\n",
      "17939/17939 [==============================] - 77s 4ms/step - loss: 0.0294 - acc: 0.9928 - val_loss: 0.0455 - val_acc: 0.9880\n",
      "Epoch 8/20\n",
      "17939/17939 [==============================] - 77s 4ms/step - loss: 0.0248 - acc: 0.9941 - val_loss: 0.0343 - val_acc: 0.9929\n",
      "Epoch 9/20\n",
      "17939/17939 [==============================] - 78s 4ms/step - loss: 0.0221 - acc: 0.9943 - val_loss: 0.1427 - val_acc: 0.9764\n",
      "Epoch 10/20\n",
      "17939/17939 [==============================] - 78s 4ms/step - loss: 0.0234 - acc: 0.9955 - val_loss: 0.0638 - val_acc: 0.9857\n",
      "Epoch 11/20\n",
      "17939/17939 [==============================] - 78s 4ms/step - loss: 0.0182 - acc: 0.9963 - val_loss: 0.0444 - val_acc: 0.9913\n",
      "Epoch 12/20\n",
      "17939/17939 [==============================] - 78s 4ms/step - loss: 0.0176 - acc: 0.9964 - val_loss: 0.0542 - val_acc: 0.9902\n",
      "Epoch 13/20\n",
      "17939/17939 [==============================] - 78s 4ms/step - loss: 0.0210 - acc: 0.9959 - val_loss: 0.0410 - val_acc: 0.9909\n",
      "Epoch 14/20\n",
      "17939/17939 [==============================] - 78s 4ms/step - loss: 0.0168 - acc: 0.9965 - val_loss: 0.0413 - val_acc: 0.9938\n",
      "Epoch 15/20\n",
      "17939/17939 [==============================] - 78s 4ms/step - loss: 0.0235 - acc: 0.9956 - val_loss: 0.0405 - val_acc: 0.9911\n",
      "Epoch 16/20\n",
      "17939/17939 [==============================] - 78s 4ms/step - loss: 0.0147 - acc: 0.9972 - val_loss: 0.0627 - val_acc: 0.9886\n",
      "Epoch 17/20\n",
      "17939/17939 [==============================] - 78s 4ms/step - loss: 0.0127 - acc: 0.9977 - val_loss: 0.0397 - val_acc: 0.9942\n",
      "Epoch 18/20\n",
      "17939/17939 [==============================] - 77s 4ms/step - loss: 0.0181 - acc: 0.9967 - val_loss: 0.0524 - val_acc: 0.9922\n",
      "Epoch 19/20\n",
      "17939/17939 [==============================] - 77s 4ms/step - loss: 0.0262 - acc: 0.9966 - val_loss: 0.0877 - val_acc: 0.9880\n",
      "Epoch 20/20\n",
      "17939/17939 [==============================] - 77s 4ms/step - loss: 0.0218 - acc: 0.9967 - val_loss: 0.0568 - val_acc: 0.9944\n",
      "1561.7487449645996  seconds\n",
      "CNN Error: 0.56%\n"
     ]
    }
   ],
   "source": [
    "num_pixels = X_train.shape[1] * X_train.shape[2]\n",
    "num_classes = y_val.shape[1]\n",
    "\n",
    "def simple_cnn_model():\n",
    "    \n",
    "    # create model\n",
    "### YOUR TURN\n",
    "# Build a model that has 1 convolution layer, 1 max pooling, 1 dense, and output \n",
    "# Use 32 filters with 5x5 size\n",
    "# For max pooling layer, make the layer such that the featuremap size would be the half after the pooling layer\n",
    "# hint: you need to change the argument input_shape to (w,h,1) in the first conv layer\n",
    "# hint: you need Flatten() before the first dense layer\n",
    "    model = Sequential()\n",
    "    model.add(Conv2D(32, kernel_size = (5,5), activation = 'relu', input_shape = (40, 30, 1)))\n",
    "    model.add(MaxPooling2D(pool_size=(2,2)))\n",
    "\n",
    "    model.add(Flatten())\n",
    "    model.add(Dense(units = num_pixels, activation = 'relu'))\n",
    "    model.add(Dense(units = num_classes, activation = 'sigmoid'))\n",
    "\n",
    "    model.compile(loss= 'categorical_crossentropy' , optimizer= 'adam' , metrics=[ 'accuracy'])\n",
    "    return model\n",
    "    \n",
    "# build the model\n",
    "model = simple_cnn_model()\n",
    "\n",
    "# Fit the model\n",
    "\n",
    "t0 = time.time()\n",
    "log = model.fit(X_train, y_train, validation_data=(X_val, y_val), epochs=20, batch_size=5, verbose=1)\n",
    "t1 = time.time()\n",
    "print(t1-t0, \" seconds\")\n",
    "# Final evaluation of the model\n",
    "scores = model.evaluate(X_val, y_val, verbose=0)\n",
    "print(\"CNN Error: %.2f%%\" % (100-scores[1]*100))"
   ]
  },
  {
   "cell_type": "code",
   "execution_count": 14,
   "metadata": {},
   "outputs": [
    {
     "data": {
      "image/png": "[encoded data removed]",
      "text/plain": [
       "<matplotlib.figure.Figure at 0x265e2683e48>"
      ]
     },
     "metadata": {},
     "output_type": "display_data"
    }
   ],
   "source": [
    "import matplotlib.pyplot as plt\n",
    "\n",
    "plt.plot(log.history['acc'])\n",
    "plt.plot(log.history['val_acc'])\n",
    "plt.title('Accuracy of Trainset')\n",
    "plt.ylabel('Accuracy')\n",
    "plt.xlabel('Epoch')\n",
    "plt.legend(['Training Accuracy', 'Validation Accuracy'])\n",
    "plt.show()"
   ]
  },
  {
   "cell_type": "code",
   "execution_count": 15,
   "metadata": {},
   "outputs": [
    {
     "data": {
      "image/png": "[encoded data removed]",
      "text/plain": [
       "<matplotlib.figure.Figure at 0x265e76e5f60>"
      ]
     },
     "metadata": {},
     "output_type": "display_data"
    }
   ],
   "source": [
    "plt.plot(log.history['loss'])\n",
    "plt.plot(log.history['val_loss'])\n",
    "plt.title('Accuracy of Trainset')\n",
    "plt.ylabel('Accuracy')\n",
    "plt.xlabel('Epoch')\n",
    "plt.legend(['Training Loss', 'Validation Loss'])\n",
    "plt.show()"
   ]
  },
  {
   "cell_type": "code",
   "execution_count": 16,
   "metadata": {},
   "outputs": [],
   "source": [
    "def inception2(x, n = 32):\n",
    "    tower_1 = Conv2D(n, 1, padding = 'same', activation = 'relu')(x)\n",
    "    tower_2 = Conv2D(n, 1, padding = 'same', activation = 'relu')(x)\n",
    "    tower_3 = Conv2D(n, 1, padding = 'same', activation = 'relu')(x)\n",
    "    tower_4 = MaxPooling2D(pool_size = (3,3), strides = (1,1), padding = 'same')(x)\n",
    "    tower_2 = Conv2D(n, 3, padding = 'same', activation = 'relu')(tower_2)\n",
    "    tower_3 = Conv2D(n, 5, padding = 'same', activation = 'relu')(tower_3)\n",
    "    tower_4 = Conv2D(n, 1, padding = 'same', activation = 'relu')(tower_4)\n",
    "    c = Concatenate(axis = -1)([tower_1, tower_2, tower_3, tower_4])\n",
    "    return c"
   ]
  },
  {
   "cell_type": "code",
   "execution_count": 17,
   "metadata": {
    "scrolled": true
   },
   "outputs": [
    {
     "name": "stdout",
     "output_type": "stream",
     "text": [
      "__________________________________________________________________________________________________\n",
      "Layer (type)                    Output Shape         Param #     Connected to                     \n",
      "==================================================================================================\n",
      "input_1 (InputLayer)            (None, 40, 30, 1)    0                                            \n",
      "__________________________________________________________________________________________________\n",
      "conv2d_3 (Conv2D)               (None, 40, 30, 32)   64          input_1[0][0]                    \n",
      "__________________________________________________________________________________________________\n",
      "conv2d_4 (Conv2D)               (None, 40, 30, 32)   64          input_1[0][0]                    \n",
      "__________________________________________________________________________________________________\n",
      "max_pooling2d_2 (MaxPooling2D)  (None, 40, 30, 1)    0           input_1[0][0]                    \n",
      "__________________________________________________________________________________________________\n",
      "conv2d_2 (Conv2D)               (None, 40, 30, 32)   64          input_1[0][0]                    \n",
      "__________________________________________________________________________________________________\n",
      "conv2d_5 (Conv2D)               (None, 40, 30, 32)   9248        conv2d_3[0][0]                   \n",
      "__________________________________________________________________________________________________\n",
      "conv2d_6 (Conv2D)               (None, 40, 30, 32)   25632       conv2d_4[0][0]                   \n",
      "__________________________________________________________________________________________________\n",
      "conv2d_7 (Conv2D)               (None, 40, 30, 32)   64          max_pooling2d_2[0][0]            \n",
      "__________________________________________________________________________________________________\n",
      "concatenate_1 (Concatenate)     (None, 40, 30, 128)  0           conv2d_2[0][0]                   \n",
      "                                                                 conv2d_5[0][0]                   \n",
      "                                                                 conv2d_6[0][0]                   \n",
      "                                                                 conv2d_7[0][0]                   \n",
      "__________________________________________________________________________________________________\n",
      "max_pooling2d_3 (MaxPooling2D)  (None, 20, 15, 128)  0           concatenate_1[0][0]              \n",
      "__________________________________________________________________________________________________\n",
      "conv2d_9 (Conv2D)               (None, 20, 15, 32)   4128        max_pooling2d_3[0][0]            \n",
      "__________________________________________________________________________________________________\n",
      "conv2d_10 (Conv2D)              (None, 20, 15, 32)   4128        max_pooling2d_3[0][0]            \n",
      "__________________________________________________________________________________________________\n",
      "max_pooling2d_4 (MaxPooling2D)  (None, 20, 15, 128)  0           max_pooling2d_3[0][0]            \n",
      "__________________________________________________________________________________________________\n",
      "conv2d_8 (Conv2D)               (None, 20, 15, 32)   4128        max_pooling2d_3[0][0]            \n",
      "__________________________________________________________________________________________________\n",
      "conv2d_11 (Conv2D)              (None, 20, 15, 32)   9248        conv2d_9[0][0]                   \n",
      "__________________________________________________________________________________________________\n",
      "conv2d_12 (Conv2D)              (None, 20, 15, 32)   25632       conv2d_10[0][0]                  \n",
      "__________________________________________________________________________________________________\n",
      "conv2d_13 (Conv2D)              (None, 20, 15, 32)   4128        max_pooling2d_4[0][0]            \n",
      "__________________________________________________________________________________________________\n",
      "concatenate_2 (Concatenate)     (None, 20, 15, 128)  0           conv2d_8[0][0]                   \n",
      "                                                                 conv2d_11[0][0]                  \n",
      "                                                                 conv2d_12[0][0]                  \n",
      "                                                                 conv2d_13[0][0]                  \n",
      "__________________________________________________________________________________________________\n",
      "max_pooling2d_5 (MaxPooling2D)  (None, 10, 7, 128)   0           concatenate_2[0][0]              \n",
      "__________________________________________________________________________________________________\n",
      "flatten_2 (Flatten)             (None, 8960)         0           max_pooling2d_5[0][0]            \n",
      "__________________________________________________________________________________________________\n",
      "dense_3 (Dense)                 (None, 128)          1147008     flatten_2[0][0]                  \n",
      "__________________________________________________________________________________________________\n",
      "dense_4 (Dense)                 (None, 10)           1290        dense_3[0][0]                    \n",
      "==================================================================================================\n",
      "Total params: 1,234,826\n",
      "Trainable params: 1,234,826\n",
      "Non-trainable params: 0\n",
      "__________________________________________________________________________________________________\n",
      "None\n",
      "Train on 17939 samples, validate on 4485 samples\n",
      "Epoch 1/20\n",
      " - 75s - loss: 0.8591 - acc: 0.6992 - val_loss: 0.1773 - val_acc: 0.9478\n",
      "Epoch 2/20\n",
      " - 72s - loss: 0.1320 - acc: 0.9616 - val_loss: 0.0860 - val_acc: 0.9784\n",
      "Epoch 3/20\n",
      " - 72s - loss: 0.0722 - acc: 0.9792 - val_loss: 0.1003 - val_acc: 0.9690\n",
      "Epoch 4/20\n",
      " - 73s - loss: 0.0580 - acc: 0.9827 - val_loss: 0.0585 - val_acc: 0.9839\n",
      "Epoch 5/20\n",
      " - 73s - loss: 0.0458 - acc: 0.9867 - val_loss: 0.0681 - val_acc: 0.9846\n",
      "Epoch 6/20\n",
      " - 73s - loss: 0.0346 - acc: 0.9897 - val_loss: 0.0825 - val_acc: 0.9831\n",
      "Epoch 7/20\n",
      " - 73s - loss: 0.0389 - acc: 0.9880 - val_loss: 0.0860 - val_acc: 0.9797\n",
      "Epoch 8/20\n",
      " - 74s - loss: 0.0303 - acc: 0.9905 - val_loss: 0.0824 - val_acc: 0.9797\n",
      "Epoch 9/20\n",
      " - 67s - loss: 0.0321 - acc: 0.9913 - val_loss: 0.0588 - val_acc: 0.9855\n",
      "Epoch 10/20\n",
      " - 67s - loss: 0.0246 - acc: 0.9926 - val_loss: 0.0556 - val_acc: 0.9891\n",
      "Epoch 11/20\n",
      " - 68s - loss: 0.0264 - acc: 0.9934 - val_loss: 0.0566 - val_acc: 0.9862\n",
      "Epoch 12/20\n",
      " - 67s - loss: 0.0241 - acc: 0.9936 - val_loss: 0.0652 - val_acc: 0.9851\n",
      "Epoch 13/20\n",
      " - 66s - loss: 0.0242 - acc: 0.9938 - val_loss: 0.0557 - val_acc: 0.9877\n",
      "Epoch 14/20\n",
      " - 67s - loss: 0.0290 - acc: 0.9927 - val_loss: 0.0526 - val_acc: 0.9866\n",
      "Epoch 15/20\n",
      " - 67s - loss: 0.0130 - acc: 0.9961 - val_loss: 0.0778 - val_acc: 0.9824\n",
      "Epoch 16/20\n",
      " - 67s - loss: 0.0201 - acc: 0.9946 - val_loss: 0.1155 - val_acc: 0.9784\n",
      "Epoch 17/20\n",
      " - 67s - loss: 0.0225 - acc: 0.9944 - val_loss: 0.0840 - val_acc: 0.9826\n",
      "Epoch 18/20\n",
      " - 67s - loss: 0.0188 - acc: 0.9951 - val_loss: 0.1118 - val_acc: 0.9790\n",
      "Epoch 19/20\n",
      " - 66s - loss: 0.0177 - acc: 0.9958 - val_loss: 0.0784 - val_acc: 0.9857\n",
      "Epoch 20/20\n",
      " - 67s - loss: 0.0133 - acc: 0.9963 - val_loss: 0.0460 - val_acc: 0.9911\n",
      "1389.8171379566193  seconds\n",
      "CNN Error: 0.89%\n"
     ]
    }
   ],
   "source": [
    "def model2(x):\n",
    "    a = inception2(x)\n",
    "    b = MaxPooling2D(pool_size = (2,2))(a)\n",
    "    c = inception2(b)\n",
    "    d = MaxPooling2D(pool_size = (2,2))(c)\n",
    "    output = Flatten()(d)\n",
    "    output = Dense(128, activation = 'relu')(output)\n",
    "    output = Dense(10, activation = 'softmax')(output)\n",
    "    model = Model(inputs = x, outputs = output)\n",
    "    model.compile(loss = 'categorical_crossentropy', optimizer = 'adam', metrics = ['accuracy'])\n",
    "    return model\n",
    "\n",
    "input_img = Input(shape=(40, 30, 1))\n",
    "model = model2(input_img)\n",
    "\n",
    "print(model.summary())\n",
    "\n",
    "t0 = time.time()\n",
    "log = model.fit(X_train,y_train, validation_data = (X_val, y_val), epochs = 20, batch_size = 5, verbose = 2)\n",
    "t1 = time.time()\n",
    "print(t1-t0, \" seconds\")\n",
    "\n",
    "scores = model.evaluate(X_val, y_val, verbose = 0)\n",
    "print(\"CNN Error: %.2f%%\" % (100-scores[1]*100))"
   ]
  },
  {
   "cell_type": "code",
   "execution_count": 18,
   "metadata": {},
   "outputs": [
    {
     "data": {
      "image/png": "[encoded data removed]",
      "text/plain": [
       "<matplotlib.figure.Figure at 0x265e77803c8>"
      ]
     },
     "metadata": {},
     "output_type": "display_data"
    }
   ],
   "source": [
    "plt.plot(log.history['acc'])\n",
    "plt.plot(log.history['val_acc'])\n",
    "plt.title('Accuracy of Trainset')\n",
    "plt.ylabel('Accuracy')\n",
    "plt.xlabel('Epoch')\n",
    "plt.legend(['Training Accuracy', 'Validation Accuracy'])\n",
    "plt.show()"
   ]
  },
  {
   "cell_type": "code",
   "execution_count": 19,
   "metadata": {
    "scrolled": true
   },
   "outputs": [
    {
     "data": {
      "image/png": "[encoded data removed]",
      "text/plain": [
       "<matplotlib.figure.Figure at 0x265fa58feb8>"
      ]
     },
     "metadata": {},
     "output_type": "display_data"
    }
   ],
   "source": [
    "plt.plot(log.history['loss'])\n",
    "plt.plot(log.history['val_loss'])\n",
    "plt.title('Accuracy of Trainset')\n",
    "plt.ylabel('Accuracy')\n",
    "plt.xlabel('Epoch')\n",
    "plt.legend(['Training Loss', 'Validation Loss'])\n",
    "plt.show()"
   ]
  },
  {
   "cell_type": "code",
   "execution_count": 29,
   "metadata": {},
   "outputs": [],
   "source": [
    "#Includes Batchnormalization.\n",
    "def inception2_w_bat(x, n = 32):\n",
    "    tower_1 = Conv2D(n, 1, padding = 'same')(x)\n",
    "    tower_2 = Conv2D(n, 1, padding = 'same')(x)\n",
    "    tower_3 = Conv2D(n, 1, padding = 'same')(x)\n",
    "    tower_4 = MaxPooling2D(pool_size = (3,3), strides = (1,1), padding = 'same')(x)\n",
    "    tower_1 = BatchNormalization()(tower_1)\n",
    "    tower_2 = BatchNormalization()(tower_2)\n",
    "    tower_3 = BatchNormalization()(tower_3)\n",
    "    tower_1 = Activation('relu')(tower_1)\n",
    "    tower_2 = Activation('relu')(tower_2)\n",
    "    tower_3 = Activation('relu')(tower_3)\n",
    "    tower_2 = Conv2D(n, 3, padding = 'same')(tower_2)\n",
    "    tower_3 = Conv2D(n, 5, padding = 'same')(tower_3)\n",
    "    tower_4 = Conv2D(n, 1, padding = 'same')(tower_4)\n",
    "    tower_2 = BatchNormalization()(tower_2)\n",
    "    tower_3 = BatchNormalization()(tower_3)\n",
    "    tower_4 = BatchNormalization()(tower_4)\n",
    "    tower_2 = Activation('relu')(tower_2)\n",
    "    tower_3 = Activation('relu')(tower_3)\n",
    "    tower_4 = Activation('relu')(tower_4)\n",
    "    c = Concatenate(axis = -1)([tower_1, tower_2, tower_3, tower_4])\n",
    "    return c"
   ]
  },
  {
   "cell_type": "code",
   "execution_count": 30,
   "metadata": {},
   "outputs": [
    {
     "name": "stdout",
     "output_type": "stream",
     "text": [
      "__________________________________________________________________________________________________\n",
      "Layer (type)                    Output Shape         Param #     Connected to                     \n",
      "==================================================================================================\n",
      "input_6 (InputLayer)            (None, 40, 30, 1)    0                                            \n",
      "__________________________________________________________________________________________________\n",
      "conv2d_63 (Conv2D)              (None, 40, 30, 32)   64          input_6[0][0]                    \n",
      "__________________________________________________________________________________________________\n",
      "conv2d_64 (Conv2D)              (None, 40, 30, 32)   64          input_6[0][0]                    \n",
      "__________________________________________________________________________________________________\n",
      "max_pooling2d_22 (MaxPooling2D) (None, 40, 30, 1)    0           input_6[0][0]                    \n",
      "__________________________________________________________________________________________________\n",
      "conv2d_62 (Conv2D)              (None, 40, 30, 32)   64          input_6[0][0]                    \n",
      "__________________________________________________________________________________________________\n",
      "conv2d_65 (Conv2D)              (None, 40, 30, 32)   9248        conv2d_63[0][0]                  \n",
      "__________________________________________________________________________________________________\n",
      "conv2d_66 (Conv2D)              (None, 40, 30, 32)   25632       conv2d_64[0][0]                  \n",
      "__________________________________________________________________________________________________\n",
      "conv2d_67 (Conv2D)              (None, 40, 30, 32)   64          max_pooling2d_22[0][0]           \n",
      "__________________________________________________________________________________________________\n",
      "concatenate_11 (Concatenate)    (None, 40, 30, 128)  0           conv2d_62[0][0]                  \n",
      "                                                                 conv2d_65[0][0]                  \n",
      "                                                                 conv2d_66[0][0]                  \n",
      "                                                                 conv2d_67[0][0]                  \n",
      "__________________________________________________________________________________________________\n",
      "max_pooling2d_23 (MaxPooling2D) (None, 20, 15, 128)  0           concatenate_11[0][0]             \n",
      "__________________________________________________________________________________________________\n",
      "conv2d_69 (Conv2D)              (None, 20, 15, 32)   4128        max_pooling2d_23[0][0]           \n",
      "__________________________________________________________________________________________________\n",
      "conv2d_70 (Conv2D)              (None, 20, 15, 32)   4128        max_pooling2d_23[0][0]           \n",
      "__________________________________________________________________________________________________\n",
      "max_pooling2d_24 (MaxPooling2D) (None, 20, 15, 128)  0           max_pooling2d_23[0][0]           \n",
      "__________________________________________________________________________________________________\n",
      "conv2d_68 (Conv2D)              (None, 20, 15, 32)   4128        max_pooling2d_23[0][0]           \n",
      "__________________________________________________________________________________________________\n",
      "conv2d_71 (Conv2D)              (None, 20, 15, 32)   9248        conv2d_69[0][0]                  \n",
      "__________________________________________________________________________________________________\n",
      "conv2d_72 (Conv2D)              (None, 20, 15, 32)   25632       conv2d_70[0][0]                  \n",
      "__________________________________________________________________________________________________\n",
      "conv2d_73 (Conv2D)              (None, 20, 15, 32)   4128        max_pooling2d_24[0][0]           \n",
      "__________________________________________________________________________________________________\n",
      "concatenate_12 (Concatenate)    (None, 20, 15, 128)  0           conv2d_68[0][0]                  \n",
      "                                                                 conv2d_71[0][0]                  \n",
      "                                                                 conv2d_72[0][0]                  \n",
      "                                                                 conv2d_73[0][0]                  \n",
      "__________________________________________________________________________________________________\n",
      "max_pooling2d_25 (MaxPooling2D) (None, 10, 7, 128)   0           concatenate_12[0][0]             \n",
      "__________________________________________________________________________________________________\n",
      "flatten_7 (Flatten)             (None, 8960)         0           max_pooling2d_25[0][0]           \n",
      "__________________________________________________________________________________________________\n",
      "dense_13 (Dense)                (None, 128)          1147008     flatten_7[0][0]                  \n",
      "__________________________________________________________________________________________________\n",
      "dense_14 (Dense)                (None, 10)           1290        dense_13[0][0]                   \n",
      "==================================================================================================\n",
      "Total params: 1,234,826\n",
      "Trainable params: 1,234,826\n",
      "Non-trainable params: 0\n",
      "__________________________________________________________________________________________________\n",
      "None\n",
      "Train on 17939 samples, validate on 4485 samples\n",
      "Epoch 1/20\n",
      " - 73s - loss: 0.7586 - acc: 0.7392 - val_loss: 0.2353 - val_acc: 0.9311\n",
      "Epoch 2/20\n",
      " - 71s - loss: 0.1152 - acc: 0.9659 - val_loss: 0.2175 - val_acc: 0.9318\n",
      "Epoch 3/20\n",
      " - 70s - loss: 0.0664 - acc: 0.9810 - val_loss: 0.1365 - val_acc: 0.9605\n",
      "Epoch 4/20\n",
      " - 70s - loss: 0.0483 - acc: 0.9857 - val_loss: 0.0599 - val_acc: 0.9837\n",
      "Epoch 5/20\n",
      " - 70s - loss: 0.0381 - acc: 0.9885 - val_loss: 0.0795 - val_acc: 0.9799\n",
      "Epoch 6/20\n",
      " - 70s - loss: 0.0359 - acc: 0.9889 - val_loss: 0.0737 - val_acc: 0.9808\n",
      "Epoch 7/20\n",
      " - 67s - loss: 0.0300 - acc: 0.9920 - val_loss: 0.0708 - val_acc: 0.9853\n",
      "Epoch 8/20\n",
      " - 67s - loss: 0.0282 - acc: 0.9912 - val_loss: 0.0848 - val_acc: 0.9786\n",
      "Epoch 9/20\n",
      " - 68s - loss: 0.0213 - acc: 0.9936 - val_loss: 0.0516 - val_acc: 0.9855\n",
      "Epoch 10/20\n",
      " - 67s - loss: 0.0238 - acc: 0.9940 - val_loss: 0.0476 - val_acc: 0.9902\n",
      "Epoch 11/20\n",
      " - 67s - loss: 0.0228 - acc: 0.9934 - val_loss: 0.0363 - val_acc: 0.9913\n",
      "Epoch 12/20\n",
      " - 67s - loss: 0.0182 - acc: 0.9952 - val_loss: 0.0542 - val_acc: 0.9891\n",
      "Epoch 13/20\n",
      " - 67s - loss: 0.0152 - acc: 0.9959 - val_loss: 0.0483 - val_acc: 0.9902\n",
      "Epoch 14/20\n",
      " - 68s - loss: 0.0143 - acc: 0.9957 - val_loss: 0.0781 - val_acc: 0.9833\n",
      "Epoch 15/20\n",
      " - 68s - loss: 0.0203 - acc: 0.9954 - val_loss: 0.0576 - val_acc: 0.9871\n",
      "Epoch 16/20\n",
      " - 68s - loss: 0.0147 - acc: 0.9963 - val_loss: 0.0958 - val_acc: 0.9808\n",
      "Epoch 17/20\n",
      " - 67s - loss: 0.0176 - acc: 0.9956 - val_loss: 0.0507 - val_acc: 0.9889\n",
      "Epoch 18/20\n",
      " - 67s - loss: 0.0178 - acc: 0.9959 - val_loss: 0.0640 - val_acc: 0.9877\n",
      "Epoch 19/20\n",
      " - 67s - loss: 0.0146 - acc: 0.9960 - val_loss: 0.0865 - val_acc: 0.9844\n",
      "Epoch 20/20\n",
      " - 67s - loss: 0.0166 - acc: 0.9964 - val_loss: 0.0514 - val_acc: 0.9873\n",
      "1368.6894280910492  seconds\n",
      "CNN Error: 1.27%\n"
     ]
    }
   ],
   "source": [
    "#This model has a batch normalization.\n",
    "def model2_w_bat(x):\n",
    "    a = inception2(x)\n",
    "    b = MaxPooling2D(pool_size = (2,2))(a)\n",
    "    c = inception2(b)\n",
    "    d = MaxPooling2D(pool_size = (2,2))(c)\n",
    "    output = Flatten()(d)\n",
    "    output = Dense(128, activation = 'relu')(output)\n",
    "    output = BatchNormalization()(output)\n",
    "    output = Dense(10, activation = 'softmax')(output)\n",
    "    output = BatchNormalization(output)\n",
    "    adam = Adam(lr = 0.001)\n",
    "    model = Model(inputs = x, outputs = output)\n",
    "    model.compile(loss = 'categorical_crossentropy', optimizer = adam, metrics = ['accuracy'])\n",
    "    return model\n",
    "\n",
    "input_img = Input(shape=(40, 30, 1))\n",
    "model = model2(input_img)\n",
    "\n",
    "print(model.summary())\n",
    "\n",
    "t0 = time.time()\n",
    "log = model.fit(X_train,y_train, validation_data = (X_val, y_val), epochs = 20, batch_size = 5, verbose = 2)\n",
    "t1 = time.time()\n",
    "print(t1-t0, \" seconds\")\n",
    "\n",
    "scores = model.evaluate(X_val, y_val, verbose = 0)\n",
    "print(\"CNN Error: %.2f%%\" % (100-scores[1]*100))"
   ]
  },
  {
   "cell_type": "code",
   "execution_count": null,
   "metadata": {},
   "outputs": [],
   "source": []
  },
  {
   "cell_type": "code",
   "execution_count": null,
   "metadata": {},
   "outputs": [],
   "source": []
  },
  {
   "cell_type": "code",
   "execution_count": null,
   "metadata": {},
   "outputs": [],
   "source": [
    "def inception2_w_do_w_bat(x, n = 32):\n",
    "    tower_1 = Conv2D(n, 1, padding = 'same')(x)\n",
    "    tower_2 = Conv2D(n, 1, padding = 'same')(x)\n",
    "    tower_3 = Conv2D(n, 1, padding = 'same')(x)\n",
    "    tower_4 = MaxPooling2D(pool_size = (3,3), strides = (1,1), padding = 'same')(x)\n",
    "    tower_1 = BatchNormalization()(tower_1)\n",
    "    tower_2 = BatchNormalization()(tower_2)\n",
    "    tower_3 = BatchNormalization()(tower_3)\n",
    "    tower_1 = Activation('relu')(tower_1)\n",
    "    tower_2 = Activation('relu')(tower_2)\n",
    "    tower_3 = Activation('relu')(tower_3)\n",
    "    tower_1 = Dropout(0.1)(tower_1)\n",
    "    tower_2 = Dropout(0.1)(tower_2)\n",
    "    tower_3 = Dropout(0.1)(tower_3)\n",
    "    tower_2 = Conv2D(n, 3, padding = 'same')(tower_2)\n",
    "    tower_3 = Conv2D(n, 5, padding = 'same')(tower_3)\n",
    "    tower_4 = Conv2D(n, 1, padding = 'same')(tower_4)\n",
    "    tower_2 = BatchNormalization()(tower_2)\n",
    "    tower_3 = BatchNormalization()(tower_3)\n",
    "    tower_4 = BatchNormalization()(tower_4)\n",
    "    tower_2 = Activation('relu')(tower_2)\n",
    "    tower_3 = Activation('relu')(tower_3)\n",
    "    tower_4 = Activation('relu')(tower_4)\n",
    "    tower_2 = Dropout(0.1)(tower_2)\n",
    "    tower_3 = Dropout(0.1)(tower_3)\n",
    "    tower_4 = Dropout(0.1)(tower_4)\n",
    "    c = Concatenate(axis = -1)([tower_1, tower_2, tower_3, tower_4])\n",
    "    return c"
   ]
  },
  {
   "cell_type": "code",
   "execution_count": null,
   "metadata": {},
   "outputs": [],
   "source": [
    "#This model has a larger learning rate, batch normalization, and dropout.\n",
    "def model2_w_do_w_bat(x):\n",
    "    a = inception2(x)\n",
    "    b = MaxPooling2D(pool_size = (2,2))(a)\n",
    "    c = inception2(b)\n",
    "    d = MaxPooling2D(pool_size = (2,2))(c)\n",
    "    output = Flatten()(d)\n",
    "    output = Dense(128, activation = 'relu')(output)\n",
    "    output = BatchNormalization()(output)\n",
    "    output = Dense(10, activation = 'softmax')(output)\n",
    "    output = BatchNormalization()(output)\n",
    "    adam = Adam(lr = 0.01)\n",
    "    model = Model(inputs = x, outputs = output)\n",
    "    model.compile(loss = 'categorical_crossentropy', optimizer = adam, metrics = ['accuracy'])\n",
    "    return model\n",
    "\n",
    "input_img = Input(shape=(40, 30, 1))\n",
    "model = model2(input_img)\n",
    "\n",
    "print(model.summary())\n",
    "\n",
    "t0 = time.time()\n",
    "log = model.fit(X_train,y_train, validation_data = (X_val, y_val), epochs = 20, batch_size = 5, verbose = 2)\n",
    "t1 = time.time()\n",
    "print(t1-t0, \" seconds\")\n",
    "\n",
    "scores = model.evaluate(X_val, y_val, verbose = 0)\n",
    "print(\"CNN Error: %.2f%%\" % (100-scores[1]*100))"
   ]
  },
  {
   "cell_type": "code",
   "execution_count": null,
   "metadata": {},
   "outputs": [],
   "source": []
  },
  {
   "cell_type": "code",
   "execution_count": null,
   "metadata": {},
   "outputs": [],
   "source": []
  },
  {
   "cell_type": "code",
   "execution_count": null,
   "metadata": {},
   "outputs": [],
   "source": []
  }
 ],
 "metadata": {
  "kernelspec": {
   "display_name": "Python 3",
   "language": "python",
   "name": "python3"
  },
  "language_info": {
   "codemirror_mode": {
    "name": "ipython",
    "version": 3
   },
   "file_extension": ".py",
   "mimetype": "text/x-python",
   "name": "python",
   "nbconvert_exporter": "python",
   "pygments_lexer": "ipython3",
   "version": "3.6.4"
  }
 },
 "nbformat": 4,
 "nbformat_minor": 2
}
