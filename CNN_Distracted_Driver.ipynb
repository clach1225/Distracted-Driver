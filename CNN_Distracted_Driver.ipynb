{
 "cells": [
  {
   "cell_type": "code",
   "execution_count": 1,
   "metadata": {},
   "outputs": [],
   "source": [
    "import pandas as pd\n",
    "from PIL import Image, ImageFilter\n",
    "from numpy import array\n",
    "from sklearn.model_selection import train_test_split\n",
    "import glob\n",
    "import numpy as np\n",
    "import os"
   ]
  },
  {
   "cell_type": "code",
   "execution_count": 73,
   "metadata": {
    "scrolled": true
   },
   "outputs": [
    {
     "name": "stdout",
     "output_type": "stream",
     "text": [
      "Load folder c0\n",
      "Number of train Images: 2489\n",
      "Load folder c1\n",
      "Number of train Images: 4756\n",
      "Load folder c2\n",
      "Number of train Images: 7073\n",
      "Load folder c3\n",
      "Number of train Images: 9419\n",
      "Load folder c4\n",
      "Number of train Images: 11745\n",
      "Load folder c5\n",
      "Number of train Images: 14057\n",
      "Load folder c6\n",
      "Number of train Images: 16382\n",
      "Load folder c7\n",
      "Number of train Images: 18384\n",
      "Load folder c8\n",
      "Number of train Images: 20295\n",
      "Load folder c9\n",
      "Number of train Images: 22424\n"
     ]
    },
    {
     "name": "stderr",
     "output_type": "stream",
     "text": [
      "C:\\Users\\buckf\\Anaconda3\\lib\\site-packages\\sklearn\\model_selection\\_split.py:2026: FutureWarning: From version 0.21, test_size will always complement train_size unless both are specified.\n",
      "  FutureWarning)\n"
     ]
    }
   ],
   "source": [
    "# Load in ALL train images and label them\n",
    "X = []\n",
    "y = []\n",
    "for j in range(10):\n",
    "    print('Load folder c{}'.format(j))\n",
    "    path = os.path.join('C:/Users/buckf/Documents/MSDS 686/Code/Distracted Driver Project/Data/imgs', 'train', 'c' + str(j), '*.jpg')\n",
    "    img_list = glob.glob(path)\n",
    "    for file in img_list:\n",
    "        img = Image.open(file).convert('L')\n",
    "        height, width = img.size\n",
    "        img.thumbnail((height/16, width/16), Image.ANTIALIAS)\n",
    "        pix = np.array(img.getdata()).reshape(img.size[0], img.size[1], 1)\n",
    "        X.append(pix)\n",
    "        y.append(j)\n",
    "    print(\"Number of train Images: %s\" % len(X))\n",
    "    \n",
    "X = np.array(X, dtype = 'float32')\n",
    "y = np.array(y, dtype = 'float32')\n",
    "X_train, X_val, y_train, y_val = train_test_split(X, y, train_size = 0.8, shuffle = True)"
   ]
  },
  {
   "cell_type": "code",
   "execution_count": 3,
   "metadata": {},
   "outputs": [],
   "source": [
    "#Standardize the Pixel Data\n",
    "X_train = X_train / 255\n",
    "X_val = X_val / 255"
   ]
  },
  {
   "cell_type": "code",
   "execution_count": 4,
   "metadata": {
    "scrolled": true
   },
   "outputs": [
    {
     "data": {
      "text/plain": [
       "(17939, 40, 30, 1)"
      ]
     },
     "execution_count": 4,
     "metadata": {},
     "output_type": "execute_result"
    }
   ],
   "source": [
    "X_train.shape"
   ]
  },
  {
   "cell_type": "code",
   "execution_count": 5,
   "metadata": {},
   "outputs": [
    {
     "name": "stderr",
     "output_type": "stream",
     "text": [
      "C:\\Users\\buckf\\Anaconda3\\lib\\site-packages\\h5py\\__init__.py:36: FutureWarning: Conversion of the second argument of issubdtype from `float` to `np.floating` is deprecated. In future, it will be treated as `np.float64 == np.dtype(float).type`.\n",
      "  from ._conv import register_converters as _register_converters\n",
      "Using TensorFlow backend.\n"
     ]
    }
   ],
   "source": [
    "import time\n",
    "import numpy\n",
    "from keras.datasets import mnist\n",
    "from keras.models import Model\n",
    "from keras.layers import Input, Concatenate, Dense, Dropout, Flatten, Activation\n",
    "from keras.layers.convolutional import Conv2D, MaxPooling2D\n",
    "from keras.layers.normalization import BatchNormalization\n",
    "from keras.utils import to_categorical\n",
    "from keras import backend as K\n",
    "from keras.optimizers import Adam\n",
    "from keras.models import Sequential\n",
    "from keras.layers import Dense\n",
    "from keras.layers import Dropout\n",
    "from keras.preprocessing.image import ImageDataGenerator\n",
    "\n",
    "import keras.utils as np_utils"
   ]
  },
  {
   "cell_type": "code",
   "execution_count": 6,
   "metadata": {},
   "outputs": [],
   "source": [
    "#Make targets a categorical array.\n",
    "y_train = to_categorical(y_train)\n",
    "y_val = to_categorical(y_val)"
   ]
  },
  {
   "cell_type": "code",
   "execution_count": 7,
   "metadata": {},
   "outputs": [
    {
     "name": "stdout",
     "output_type": "stream",
     "text": [
      "(17939, 10)\n",
      "[0. 0. 0. 0. 1. 0. 0. 0. 0. 0.]\n"
     ]
    }
   ],
   "source": [
    "print(y_train.shape)\n",
    "print(y_train[2])"
   ]
  },
  {
   "cell_type": "code",
   "execution_count": 8,
   "metadata": {
    "scrolled": true
   },
   "outputs": [
    {
     "name": "stdout",
     "output_type": "stream",
     "text": [
      "(17939, 40, 30, 1)\n",
      "[[[0.09803922]\n",
      "  [0.11372549]\n",
      "  [0.12156863]\n",
      "  ...\n",
      "  [0.63529414]\n",
      "  [0.40784314]\n",
      "  [0.3647059 ]]\n",
      "\n",
      " [[0.40784314]\n",
      "  [0.45490196]\n",
      "  [0.61960787]\n",
      "  ...\n",
      "  [0.75686276]\n",
      "  [0.7647059 ]\n",
      "  [0.83137256]]\n",
      "\n",
      " [[0.8745098 ]\n",
      "  [0.8862745 ]\n",
      "  [0.90588236]\n",
      "  ...\n",
      "  [0.6901961 ]\n",
      "  [0.92941177]\n",
      "  [0.6627451 ]]\n",
      "\n",
      " ...\n",
      "\n",
      " [[0.04313726]\n",
      "  [0.03921569]\n",
      "  [0.03529412]\n",
      "  ...\n",
      "  [0.12156863]\n",
      "  [0.28235295]\n",
      "  [0.32156864]]\n",
      "\n",
      " [[0.29803923]\n",
      "  [0.35686275]\n",
      "  [0.38431373]\n",
      "  ...\n",
      "  [0.02352941]\n",
      "  [0.04313726]\n",
      "  [0.07058824]]\n",
      "\n",
      " [[0.08627451]\n",
      "  [0.10196079]\n",
      "  [0.11764706]\n",
      "  ...\n",
      "  [0.10980392]\n",
      "  [0.01960784]\n",
      "  [0.03529412]]]\n"
     ]
    }
   ],
   "source": [
    "print(X_train.shape)\n",
    "print(X_train[2])"
   ]
  },
  {
   "cell_type": "code",
   "execution_count": 9,
   "metadata": {
    "scrolled": true
   },
   "outputs": [
    {
     "name": "stdout",
     "output_type": "stream",
     "text": [
      "Train on 17939 samples, validate on 4485 samples\n",
      "Epoch 1/20\n",
      "17939/17939 [==============================] - 87s 5ms/step - loss: 0.4200 - acc: 0.8674 - val_loss: 0.1209 - val_acc: 0.9628\n",
      "Epoch 2/20\n",
      "17939/17939 [==============================] - 83s 5ms/step - loss: 0.0819 - acc: 0.9764 - val_loss: 0.1349 - val_acc: 0.9596\n",
      "Epoch 3/20\n",
      "17939/17939 [==============================] - 82s 5ms/step - loss: 0.0483 - acc: 0.9857 - val_loss: 0.0880 - val_acc: 0.9819\n",
      "Epoch 4/20\n",
      "17939/17939 [==============================] - 82s 5ms/step - loss: 0.0396 - acc: 0.9886 - val_loss: 0.0535 - val_acc: 0.9866\n",
      "Epoch 5/20\n",
      "17939/17939 [==============================] - 81s 5ms/step - loss: 0.0266 - acc: 0.9928 - val_loss: 0.0955 - val_acc: 0.9746\n",
      "Epoch 6/20\n",
      "17939/17939 [==============================] - 82s 5ms/step - loss: 0.0225 - acc: 0.9943 - val_loss: 0.0563 - val_acc: 0.9875\n",
      "Epoch 7/20\n",
      "17939/17939 [==============================] - 81s 5ms/step - loss: 0.0263 - acc: 0.9928 - val_loss: 0.0772 - val_acc: 0.9848\n",
      "Epoch 8/20\n",
      "17939/17939 [==============================] - 80s 4ms/step - loss: 0.0244 - acc: 0.9949 - val_loss: 0.0633 - val_acc: 0.9864\n",
      "Epoch 9/20\n",
      "17939/17939 [==============================] - 82s 5ms/step - loss: 0.0232 - acc: 0.9951 - val_loss: 0.0677 - val_acc: 0.9877\n",
      "Epoch 10/20\n",
      "17939/17939 [==============================] - 81s 5ms/step - loss: 0.0241 - acc: 0.9950 - val_loss: 0.0986 - val_acc: 0.9802\n",
      "Epoch 11/20\n",
      "17939/17939 [==============================] - 82s 5ms/step - loss: 0.0213 - acc: 0.9954 - val_loss: 0.0555 - val_acc: 0.9920\n",
      "Epoch 12/20\n",
      "17939/17939 [==============================] - 82s 5ms/step - loss: 0.0205 - acc: 0.9959 - val_loss: 0.0860 - val_acc: 0.9893\n",
      "Epoch 13/20\n",
      "17939/17939 [==============================] - 82s 5ms/step - loss: 0.0188 - acc: 0.9962 - val_loss: 0.0634 - val_acc: 0.9920\n",
      "Epoch 14/20\n",
      "17939/17939 [==============================] - 83s 5ms/step - loss: 0.0166 - acc: 0.9963 - val_loss: 0.0886 - val_acc: 0.9877\n",
      "Epoch 15/20\n",
      "17939/17939 [==============================] - 80s 4ms/step - loss: 0.0221 - acc: 0.9967 - val_loss: 0.1331 - val_acc: 0.9777\n",
      "Epoch 16/20\n",
      "17939/17939 [==============================] - 82s 5ms/step - loss: 0.0140 - acc: 0.9978 - val_loss: 0.0725 - val_acc: 0.9900\n",
      "Epoch 17/20\n",
      "17939/17939 [==============================] - 82s 5ms/step - loss: 0.0176 - acc: 0.9967 - val_loss: 0.1167 - val_acc: 0.9835\n",
      "Epoch 18/20\n",
      "17939/17939 [==============================] - 82s 5ms/step - loss: 0.0091 - acc: 0.9979 - val_loss: 0.0893 - val_acc: 0.9880\n",
      "Epoch 19/20\n",
      "17939/17939 [==============================] - 82s 5ms/step - loss: 0.0172 - acc: 0.9969 - val_loss: 0.1303 - val_acc: 0.9831\n",
      "Epoch 20/20\n",
      "17939/17939 [==============================] - 82s 5ms/step - loss: 0.0173 - acc: 0.9973 - val_loss: 0.0617 - val_acc: 0.9922\n",
      "1641.7556388378143  seconds\n",
      "CNN Error: 0.78%\n"
     ]
    }
   ],
   "source": [
    "num_pixels = X_train.shape[1] * X_train.shape[2]\n",
    "num_classes = y_val.shape[1]\n",
    "\n",
    "def simple_cnn_model():\n",
    "    \n",
    "    # create model\n",
    "### YOUR TURN\n",
    "# Build a model that has 1 convolution layer, 1 max pooling, 1 dense, and output \n",
    "# Use 32 filters with 5x5 size\n",
    "# For max pooling layer, make the layer such that the featuremap size would be the half after the pooling layer\n",
    "# hint: you need to change the argument input_shape to (w,h,1) in the first conv layer\n",
    "# hint: you need Flatten() before the first dense layer\n",
    "    model = Sequential()\n",
    "    model.add(Conv2D(32, kernel_size = (5,5), activation = 'relu', input_shape = (40, 30, 1)))\n",
    "    model.add(MaxPooling2D(pool_size=(2,2)))\n",
    "\n",
    "    model.add(Flatten())\n",
    "    model.add(Dense(units = num_pixels, activation = 'relu'))\n",
    "    model.add(Dense(units = num_classes, activation = 'softmax'))\n",
    "\n",
    "    model.compile(loss= 'categorical_crossentropy' , optimizer= 'adam' , metrics=[ 'accuracy'])\n",
    "    return model\n",
    "    \n",
    "# build the model\n",
    "model = simple_cnn_model()\n",
    "\n",
    "# Fit the model\n",
    "\n",
    "t0 = time.time()\n",
    "log = model.fit(X_train, y_train, validation_data=(X_val, y_val), epochs=20, batch_size=5, verbose=1)\n",
    "t1 = time.time()\n",
    "print(t1-t0, \" seconds\")\n",
    "# Final evaluation of the model\n",
    "scores = model.evaluate(X_val, y_val, verbose=0)\n",
    "print(\"CNN Error: %.2f%%\" % (100-scores[1]*100))"
   ]
  },
  {
   "cell_type": "code",
   "execution_count": 11,
   "metadata": {},
   "outputs": [
    {
     "data": {
      "image/png": "[encoded data removed]",
      "text/plain": [
       "<matplotlib.figure.Figure at 0x1f6575bacc0>"
      ]
     },
     "metadata": {},
     "output_type": "display_data"
    }
   ],
   "source": [
    "import matplotlib.pyplot as plt\n",
    "\n",
    "plt.plot(log.history['acc'])\n",
    "plt.plot(log.history['val_acc'])\n",
    "plt.title('Accuracy of Trainset')\n",
    "plt.ylabel('Accuracy')\n",
    "plt.xlabel('Epoch')\n",
    "plt.legend(['Training Accuracy', 'Validation Accuracy'])\n",
    "plt.show()"
   ]
  },
  {
   "cell_type": "code",
   "execution_count": 12,
   "metadata": {},
   "outputs": [
    {
     "data": {
      "image/png": "[encoded data removed]",
      "text/plain": [
       "<matplotlib.figure.Figure at 0x1f659156048>"
      ]
     },
     "metadata": {},
     "output_type": "display_data"
    }
   ],
   "source": [
    "plt.plot(log.history['loss'])\n",
    "plt.plot(log.history['val_loss'])\n",
    "plt.title('Loss of Trainset')\n",
    "plt.ylabel('Loss')\n",
    "plt.xlabel('Epoch')\n",
    "plt.legend(['Training Loss', 'Validation Loss'])\n",
    "plt.show()"
   ]
  },
  {
   "cell_type": "code",
   "execution_count": 13,
   "metadata": {},
   "outputs": [],
   "source": [
    "def inception2(x, n = 32):\n",
    "    tower_1 = Conv2D(n, 1, padding = 'same', activation = 'relu')(x)\n",
    "    tower_2 = Conv2D(n, 1, padding = 'same', activation = 'relu')(x)\n",
    "    tower_3 = Conv2D(n, 1, padding = 'same', activation = 'relu')(x)\n",
    "    tower_4 = MaxPooling2D(pool_size = (3,3), strides = (1,1), padding = 'same')(x)\n",
    "    tower_2 = Conv2D(n, 3, padding = 'same', activation = 'relu')(tower_2)\n",
    "    tower_3 = Conv2D(n, 5, padding = 'same', activation = 'relu')(tower_3)\n",
    "    tower_4 = Conv2D(n, 1, padding = 'same', activation = 'relu')(tower_4)\n",
    "    c = Concatenate(axis = -1)([tower_1, tower_2, tower_3, tower_4])\n",
    "    return c"
   ]
  },
  {
   "cell_type": "code",
   "execution_count": 14,
   "metadata": {
    "scrolled": true
   },
   "outputs": [
    {
     "name": "stdout",
     "output_type": "stream",
     "text": [
      "__________________________________________________________________________________________________\n",
      "Layer (type)                    Output Shape         Param #     Connected to                     \n",
      "==================================================================================================\n",
      "input_1 (InputLayer)            (None, 40, 30, 1)    0                                            \n",
      "__________________________________________________________________________________________________\n",
      "conv2d_3 (Conv2D)               (None, 40, 30, 32)   64          input_1[0][0]                    \n",
      "__________________________________________________________________________________________________\n",
      "conv2d_4 (Conv2D)               (None, 40, 30, 32)   64          input_1[0][0]                    \n",
      "__________________________________________________________________________________________________\n",
      "max_pooling2d_2 (MaxPooling2D)  (None, 40, 30, 1)    0           input_1[0][0]                    \n",
      "__________________________________________________________________________________________________\n",
      "conv2d_2 (Conv2D)               (None, 40, 30, 32)   64          input_1[0][0]                    \n",
      "__________________________________________________________________________________________________\n",
      "conv2d_5 (Conv2D)               (None, 40, 30, 32)   9248        conv2d_3[0][0]                   \n",
      "__________________________________________________________________________________________________\n",
      "conv2d_6 (Conv2D)               (None, 40, 30, 32)   25632       conv2d_4[0][0]                   \n",
      "__________________________________________________________________________________________________\n",
      "conv2d_7 (Conv2D)               (None, 40, 30, 32)   64          max_pooling2d_2[0][0]            \n",
      "__________________________________________________________________________________________________\n",
      "concatenate_1 (Concatenate)     (None, 40, 30, 128)  0           conv2d_2[0][0]                   \n",
      "                                                                 conv2d_5[0][0]                   \n",
      "                                                                 conv2d_6[0][0]                   \n",
      "                                                                 conv2d_7[0][0]                   \n",
      "__________________________________________________________________________________________________\n",
      "max_pooling2d_3 (MaxPooling2D)  (None, 20, 15, 128)  0           concatenate_1[0][0]              \n",
      "__________________________________________________________________________________________________\n",
      "conv2d_9 (Conv2D)               (None, 20, 15, 32)   4128        max_pooling2d_3[0][0]            \n",
      "__________________________________________________________________________________________________\n",
      "conv2d_10 (Conv2D)              (None, 20, 15, 32)   4128        max_pooling2d_3[0][0]            \n",
      "__________________________________________________________________________________________________\n",
      "max_pooling2d_4 (MaxPooling2D)  (None, 20, 15, 128)  0           max_pooling2d_3[0][0]            \n",
      "__________________________________________________________________________________________________\n",
      "conv2d_8 (Conv2D)               (None, 20, 15, 32)   4128        max_pooling2d_3[0][0]            \n",
      "__________________________________________________________________________________________________\n",
      "conv2d_11 (Conv2D)              (None, 20, 15, 32)   9248        conv2d_9[0][0]                   \n",
      "__________________________________________________________________________________________________\n",
      "conv2d_12 (Conv2D)              (None, 20, 15, 32)   25632       conv2d_10[0][0]                  \n",
      "__________________________________________________________________________________________________\n",
      "conv2d_13 (Conv2D)              (None, 20, 15, 32)   4128        max_pooling2d_4[0][0]            \n",
      "__________________________________________________________________________________________________\n",
      "concatenate_2 (Concatenate)     (None, 20, 15, 128)  0           conv2d_8[0][0]                   \n",
      "                                                                 conv2d_11[0][0]                  \n",
      "                                                                 conv2d_12[0][0]                  \n",
      "                                                                 conv2d_13[0][0]                  \n",
      "__________________________________________________________________________________________________\n",
      "max_pooling2d_5 (MaxPooling2D)  (None, 10, 7, 128)   0           concatenate_2[0][0]              \n",
      "__________________________________________________________________________________________________\n",
      "flatten_2 (Flatten)             (None, 8960)         0           max_pooling2d_5[0][0]            \n",
      "__________________________________________________________________________________________________\n",
      "dense_3 (Dense)                 (None, 128)          1147008     flatten_2[0][0]                  \n",
      "__________________________________________________________________________________________________\n",
      "dense_4 (Dense)                 (None, 10)           1290        dense_3[0][0]                    \n",
      "==================================================================================================\n",
      "Total params: 1,234,826\n",
      "Trainable params: 1,234,826\n",
      "Non-trainable params: 0\n",
      "__________________________________________________________________________________________________\n",
      "None\n",
      "Train on 17939 samples, validate on 4485 samples\n",
      "Epoch 1/20\n",
      " - 73s - loss: 0.8647 - acc: 0.6994 - val_loss: 0.2412 - val_acc: 0.9313\n",
      "Epoch 2/20\n",
      " - 68s - loss: 0.1225 - acc: 0.9645 - val_loss: 0.1420 - val_acc: 0.9596\n",
      "Epoch 3/20\n",
      " - 69s - loss: 0.0657 - acc: 0.9811 - val_loss: 0.1219 - val_acc: 0.9692\n",
      "Epoch 4/20\n",
      " - 68s - loss: 0.0458 - acc: 0.9863 - val_loss: 0.1200 - val_acc: 0.9670\n",
      "Epoch 5/20\n",
      " - 68s - loss: 0.0418 - acc: 0.9872 - val_loss: 0.1396 - val_acc: 0.9672\n",
      "Epoch 6/20\n",
      " - 68s - loss: 0.0354 - acc: 0.9897 - val_loss: 0.0871 - val_acc: 0.9804\n",
      "Epoch 7/20\n",
      " - 68s - loss: 0.0212 - acc: 0.9938 - val_loss: 0.0794 - val_acc: 0.9808\n",
      "Epoch 8/20\n",
      " - 68s - loss: 0.0242 - acc: 0.9924 - val_loss: 0.0843 - val_acc: 0.9828\n",
      "Epoch 9/20\n",
      " - 69s - loss: 0.0253 - acc: 0.9933 - val_loss: 0.0880 - val_acc: 0.9855\n",
      "Epoch 10/20\n",
      " - 67s - loss: 0.0241 - acc: 0.9941 - val_loss: 0.1278 - val_acc: 0.9715\n",
      "Epoch 11/20\n",
      " - 67s - loss: 0.0203 - acc: 0.9941 - val_loss: 0.0849 - val_acc: 0.9819\n",
      "Epoch 12/20\n",
      " - 68s - loss: 0.0179 - acc: 0.9943 - val_loss: 0.1445 - val_acc: 0.9779\n",
      "Epoch 13/20\n",
      " - 67s - loss: 0.0207 - acc: 0.9950 - val_loss: 0.1054 - val_acc: 0.9813\n",
      "Epoch 14/20\n",
      " - 68s - loss: 0.0176 - acc: 0.9956 - val_loss: 0.1173 - val_acc: 0.9755\n",
      "Epoch 15/20\n",
      " - 68s - loss: 0.0192 - acc: 0.9944 - val_loss: 0.0918 - val_acc: 0.9851\n",
      "Epoch 16/20\n",
      " - 68s - loss: 0.0153 - acc: 0.9964 - val_loss: 0.0705 - val_acc: 0.9864\n",
      "Epoch 17/20\n",
      " - 68s - loss: 0.0132 - acc: 0.9967 - val_loss: 0.1268 - val_acc: 0.9790\n",
      "Epoch 18/20\n",
      " - 67s - loss: 0.0194 - acc: 0.9960 - val_loss: 0.0928 - val_acc: 0.9839\n",
      "Epoch 19/20\n",
      " - 68s - loss: 0.0211 - acc: 0.9952 - val_loss: 0.0984 - val_acc: 0.9831\n",
      "Epoch 20/20\n",
      " - 68s - loss: 0.0132 - acc: 0.9968 - val_loss: 0.0948 - val_acc: 0.9833\n",
      "1360.9010412693024  seconds\n",
      "CNN Error: 1.67%\n"
     ]
    }
   ],
   "source": [
    "def model2(x):\n",
    "    a = inception2(x)\n",
    "    b = MaxPooling2D(pool_size = (2,2))(a)\n",
    "    c = inception2(b)\n",
    "    d = MaxPooling2D(pool_size = (2,2))(c)\n",
    "    output = Flatten()(d)\n",
    "    output = Dense(128, activation = 'relu')(output)\n",
    "    output = Dense(10, activation = 'softmax')(output)\n",
    "    model = Model(inputs = x, outputs = output)\n",
    "    model.compile(loss = 'categorical_crossentropy', optimizer = 'adam', metrics = ['accuracy'])\n",
    "    return model\n",
    "\n",
    "input_img = Input(shape=(40, 30, 1))\n",
    "model = model2(input_img)\n",
    "\n",
    "print(model.summary())\n",
    "\n",
    "t0 = time.time()\n",
    "log = model.fit(X_train,y_train, validation_data = (X_val, y_val), epochs = 20, batch_size = 5, verbose = 2)\n",
    "t1 = time.time()\n",
    "print(t1-t0, \" seconds\")\n",
    "\n",
    "scores = model.evaluate(X_val, y_val, verbose = 0)\n",
    "print(\"CNN Error: %.2f%%\" % (100-scores[1]*100))"
   ]
  },
  {
   "cell_type": "code",
   "execution_count": 15,
   "metadata": {},
   "outputs": [
    {
     "data": {
      "image/png": "[encoded data removed]",
      "text/plain": [
       "<matplotlib.figure.Figure at 0x1f65ba7f518>"
      ]
     },
     "metadata": {},
     "output_type": "display_data"
    }
   ],
   "source": [
    "plt.plot(log.history['acc'])\n",
    "plt.plot(log.history['val_acc'])\n",
    "plt.title('Accuracy of Trainset')\n",
    "plt.ylabel('Accuracy')\n",
    "plt.xlabel('Epoch')\n",
    "plt.legend(['Training Accuracy', 'Validation Accuracy'])\n",
    "plt.show()"
   ]
  },
  {
   "cell_type": "code",
   "execution_count": 16,
   "metadata": {
    "scrolled": true
   },
   "outputs": [
    {
     "data": {
      "image/png": "[encoded data removed]",
      "text/plain": [
       "<matplotlib.figure.Figure at 0x1f67a54ea58>"
      ]
     },
     "metadata": {},
     "output_type": "display_data"
    }
   ],
   "source": [
    "plt.plot(log.history['loss'])\n",
    "plt.plot(log.history['val_loss'])\n",
    "plt.title('Loss on Trainset')\n",
    "plt.ylabel('Loss')\n",
    "plt.xlabel('Epoch')\n",
    "plt.legend(['Training Loss', 'Validation Loss'])\n",
    "plt.show()"
   ]
  },
  {
   "cell_type": "markdown",
   "metadata": {},
   "source": [
    "## The model below gave me the best results in terms of accuracy without overfitting. I used this model to predict the classifications on the testset."
   ]
  },
  {
   "cell_type": "code",
   "execution_count": 20,
   "metadata": {},
   "outputs": [],
   "source": [
    "#Includes Batchnormalization.\n",
    "def inception2_w_bat(x, n = 32):\n",
    "    tower_1 = Conv2D(n, 1, padding = 'same')(x)\n",
    "    tower_2 = Conv2D(n, 1, padding = 'same')(x)\n",
    "    tower_3 = Conv2D(n, 1, padding = 'same')(x)\n",
    "    tower_4 = MaxPooling2D(pool_size = (3,3), strides = (1,1), padding = 'same')(x)\n",
    "    tower_1 = BatchNormalization()(tower_1)\n",
    "    tower_2 = BatchNormalization()(tower_2)\n",
    "    tower_3 = BatchNormalization()(tower_3)\n",
    "    tower_1 = Activation('relu')(tower_1)\n",
    "    tower_2 = Activation('relu')(tower_2)\n",
    "    tower_3 = Activation('relu')(tower_3)\n",
    "    tower_2 = Conv2D(n, 3, padding = 'same')(tower_2)\n",
    "    tower_3 = Conv2D(n, 5, padding = 'same')(tower_3)\n",
    "    tower_4 = Conv2D(n, 1, padding = 'same')(tower_4)\n",
    "    tower_2 = BatchNormalization()(tower_2)\n",
    "    tower_3 = BatchNormalization()(tower_3)\n",
    "    tower_4 = BatchNormalization()(tower_4)\n",
    "    tower_2 = Activation('relu')(tower_2)\n",
    "    tower_3 = Activation('relu')(tower_3)\n",
    "    tower_4 = Activation('relu')(tower_4)\n",
    "    c = Concatenate(axis = -1)([tower_1, tower_2, tower_3, tower_4])\n",
    "    return c"
   ]
  },
  {
   "cell_type": "code",
   "execution_count": 21,
   "metadata": {},
   "outputs": [
    {
     "name": "stdout",
     "output_type": "stream",
     "text": [
      "__________________________________________________________________________________________________\n",
      "Layer (type)                    Output Shape         Param #     Connected to                     \n",
      "==================================================================================================\n",
      "input_1 (InputLayer)            (None, 40, 30, 1)    0                                            \n",
      "__________________________________________________________________________________________________\n",
      "conv2d_3 (Conv2D)               (None, 40, 30, 32)   64          input_1[0][0]                    \n",
      "__________________________________________________________________________________________________\n",
      "conv2d_4 (Conv2D)               (None, 40, 30, 32)   64          input_1[0][0]                    \n",
      "__________________________________________________________________________________________________\n",
      "max_pooling2d_2 (MaxPooling2D)  (None, 40, 30, 1)    0           input_1[0][0]                    \n",
      "__________________________________________________________________________________________________\n",
      "conv2d_2 (Conv2D)               (None, 40, 30, 32)   64          input_1[0][0]                    \n",
      "__________________________________________________________________________________________________\n",
      "conv2d_5 (Conv2D)               (None, 40, 30, 32)   9248        conv2d_3[0][0]                   \n",
      "__________________________________________________________________________________________________\n",
      "conv2d_6 (Conv2D)               (None, 40, 30, 32)   25632       conv2d_4[0][0]                   \n",
      "__________________________________________________________________________________________________\n",
      "conv2d_7 (Conv2D)               (None, 40, 30, 32)   64          max_pooling2d_2[0][0]            \n",
      "__________________________________________________________________________________________________\n",
      "concatenate_1 (Concatenate)     (None, 40, 30, 128)  0           conv2d_2[0][0]                   \n",
      "                                                                 conv2d_5[0][0]                   \n",
      "                                                                 conv2d_6[0][0]                   \n",
      "                                                                 conv2d_7[0][0]                   \n",
      "__________________________________________________________________________________________________\n",
      "max_pooling2d_3 (MaxPooling2D)  (None, 20, 15, 128)  0           concatenate_1[0][0]              \n",
      "__________________________________________________________________________________________________\n",
      "conv2d_9 (Conv2D)               (None, 20, 15, 32)   4128        max_pooling2d_3[0][0]            \n",
      "__________________________________________________________________________________________________\n",
      "conv2d_10 (Conv2D)              (None, 20, 15, 32)   4128        max_pooling2d_3[0][0]            \n",
      "__________________________________________________________________________________________________\n",
      "max_pooling2d_4 (MaxPooling2D)  (None, 20, 15, 128)  0           max_pooling2d_3[0][0]            \n",
      "__________________________________________________________________________________________________\n",
      "conv2d_8 (Conv2D)               (None, 20, 15, 32)   4128        max_pooling2d_3[0][0]            \n",
      "__________________________________________________________________________________________________\n",
      "conv2d_11 (Conv2D)              (None, 20, 15, 32)   9248        conv2d_9[0][0]                   \n",
      "__________________________________________________________________________________________________\n",
      "conv2d_12 (Conv2D)              (None, 20, 15, 32)   25632       conv2d_10[0][0]                  \n",
      "__________________________________________________________________________________________________\n",
      "conv2d_13 (Conv2D)              (None, 20, 15, 32)   4128        max_pooling2d_4[0][0]            \n",
      "__________________________________________________________________________________________________\n",
      "concatenate_2 (Concatenate)     (None, 20, 15, 128)  0           conv2d_8[0][0]                   \n",
      "                                                                 conv2d_11[0][0]                  \n",
      "                                                                 conv2d_12[0][0]                  \n",
      "                                                                 conv2d_13[0][0]                  \n",
      "__________________________________________________________________________________________________\n",
      "max_pooling2d_5 (MaxPooling2D)  (None, 10, 7, 128)   0           concatenate_2[0][0]              \n",
      "__________________________________________________________________________________________________\n",
      "flatten_2 (Flatten)             (None, 8960)         0           max_pooling2d_5[0][0]            \n",
      "__________________________________________________________________________________________________\n",
      "dense_3 (Dense)                 (None, 128)          1147008     flatten_2[0][0]                  \n",
      "__________________________________________________________________________________________________\n",
      "dense_4 (Dense)                 (None, 10)           1290        dense_3[0][0]                    \n",
      "==================================================================================================\n",
      "Total params: 1,234,826\n",
      "Trainable params: 1,234,826\n",
      "Non-trainable params: 0\n",
      "__________________________________________________________________________________________________\n",
      "None\n",
      "Train on 17939 samples, validate on 4485 samples\n",
      "Epoch 1/20\n",
      " - 128s - loss: 0.5990 - acc: 0.8148 - val_loss: 0.2864 - val_acc: 0.9010\n",
      "Epoch 2/20\n",
      " - 125s - loss: 0.2294 - acc: 0.9319 - val_loss: 0.1394 - val_acc: 0.9561\n",
      "Epoch 3/20\n",
      " - 123s - loss: 0.1818 - acc: 0.9478 - val_loss: 0.0819 - val_acc: 0.9766\n",
      "Epoch 4/20\n",
      " - 123s - loss: 0.1454 - acc: 0.9556 - val_loss: 0.0615 - val_acc: 0.9826\n",
      "Epoch 5/20\n",
      " - 123s - loss: 0.1332 - acc: 0.9608 - val_loss: 0.0471 - val_acc: 0.9864\n",
      "Epoch 6/20\n",
      " - 123s - loss: 0.1268 - acc: 0.9612 - val_loss: 0.0328 - val_acc: 0.9922\n",
      "Epoch 7/20\n",
      " - 122s - loss: 0.1198 - acc: 0.9655 - val_loss: 0.0381 - val_acc: 0.9922\n",
      "Epoch 8/20\n",
      " - 123s - loss: 0.1009 - acc: 0.9692 - val_loss: 0.0264 - val_acc: 0.9924\n",
      "Epoch 9/20\n",
      " - 123s - loss: 0.1189 - acc: 0.9624 - val_loss: 0.0693 - val_acc: 0.9806\n",
      "Epoch 10/20\n",
      " - 123s - loss: 0.1486 - acc: 0.9532 - val_loss: 0.0806 - val_acc: 0.9802\n",
      "Epoch 11/20\n",
      " - 123s - loss: 0.1251 - acc: 0.9615 - val_loss: 0.0394 - val_acc: 0.9886\n",
      "Epoch 12/20\n",
      " - 123s - loss: 0.1184 - acc: 0.9650 - val_loss: 0.0238 - val_acc: 0.9933\n",
      "Epoch 13/20\n",
      " - 123s - loss: 0.1080 - acc: 0.9669 - val_loss: 0.0250 - val_acc: 0.9920\n",
      "Epoch 14/20\n",
      " - 123s - loss: 0.1031 - acc: 0.9677 - val_loss: 0.0542 - val_acc: 0.9842\n",
      "Epoch 15/20\n",
      " - 123s - loss: 0.1071 - acc: 0.9682 - val_loss: 0.0360 - val_acc: 0.9900\n",
      "Epoch 16/20\n",
      " - 123s - loss: 0.1026 - acc: 0.9706 - val_loss: 0.0273 - val_acc: 0.9933\n",
      "Epoch 17/20\n",
      " - 123s - loss: 0.0976 - acc: 0.9702 - val_loss: 0.1766 - val_acc: 0.9501\n",
      "Epoch 18/20\n",
      " - 123s - loss: 0.0867 - acc: 0.9741 - val_loss: 0.0227 - val_acc: 0.9949\n",
      "Epoch 19/20\n",
      " - 125s - loss: 0.0766 - acc: 0.9767 - val_loss: 0.0201 - val_acc: 0.9953\n",
      "Epoch 20/20\n",
      " - 123s - loss: 0.0830 - acc: 0.9755 - val_loss: 0.0532 - val_acc: 0.9889\n",
      "2470.2209208011627  seconds\n",
      "CNN Error: 1.11%\n"
     ]
    }
   ],
   "source": [
    "#This model has a batch normalization.\n",
    "def model2_w_bat(x):\n",
    "    a = inception2_w_bat(x)\n",
    "    b = MaxPooling2D(pool_size = (2,2))(a)\n",
    "    c = inception2_w_bat(b)\n",
    "    d = MaxPooling2D(pool_size = (2,2))(c)\n",
    "    output = Flatten()(d)\n",
    "    output = Dense(128, activation = 'relu')(output)\n",
    "    output = BatchNormalization()(output)\n",
    "    output = Dense(10, activation = 'softmax')(output)\n",
    "    adam = Adam(lr = 0.001)\n",
    "    model = Model(inputs = x, outputs = output)\n",
    "    model.compile(loss = 'categorical_crossentropy', optimizer = adam, metrics = ['accuracy'])\n",
    "    return model\n",
    "\n",
    "input_img = Input(shape=(40, 30, 1))\n",
    "model_best = model2_w_bat(input_img)\n",
    "\n",
    "print(model.summary())\n",
    "\n",
    "t0 = time.time()\n",
    "log = model_best.fit(X_train,y_train, validation_data = (X_val, y_val), epochs = 20, batch_size = 5, verbose = 2)\n",
    "t1 = time.time()\n",
    "print(t1-t0, \" seconds\")\n",
    "\n",
    "scores = model_best.evaluate(X_val, y_val, verbose = 0)\n",
    "print(\"CNN Error: %.2f%%\" % (100-scores[1]*100))"
   ]
  },
  {
   "cell_type": "code",
   "execution_count": 22,
   "metadata": {},
   "outputs": [
    {
     "data": {
      "image/png": "[encoded data removed]",
      "text/plain": [
       "<matplotlib.figure.Figure at 0x1f6808471d0>"
      ]
     },
     "metadata": {},
     "output_type": "display_data"
    }
   ],
   "source": [
    "plt.plot(log.history['acc'])\n",
    "plt.plot(log.history['val_acc'])\n",
    "plt.title('Accuracy of Trainset')\n",
    "plt.ylabel('Accuracy')\n",
    "plt.xlabel('Epoch')\n",
    "plt.legend(['Training Accuracy', 'Validation Accuracy'])\n",
    "plt.show()"
   ]
  },
  {
   "cell_type": "code",
   "execution_count": 23,
   "metadata": {},
   "outputs": [
    {
     "data": {
      "image/png": "[encoded data removed]",
      "text/plain": [
       "<matplotlib.figure.Figure at 0x1f68b369dd8>"
      ]
     },
     "metadata": {},
     "output_type": "display_data"
    }
   ],
   "source": [
    "plt.plot(log.history['loss'])\n",
    "plt.plot(log.history['val_loss'])\n",
    "plt.title('Loss on Trainset')\n",
    "plt.ylabel('Loss')\n",
    "plt.xlabel('Epoch')\n",
    "plt.legend(['Training Loss', 'Validation Loss'])\n",
    "plt.show()"
   ]
  },
  {
   "cell_type": "markdown",
   "metadata": {},
   "source": [
    "## From this cell on, I am trying run my model on the testset. Once I have generated predictions I will sumbit them to kaggle to determine my score."
   ]
  },
  {
   "cell_type": "code",
   "execution_count": 27,
   "metadata": {},
   "outputs": [],
   "source": [
    "import os \n",
    "X_test = []\n",
    "file_name = []\n",
    "test_img_path = os.path.join('C:/Users/buckf/Documents/MSDS 686/Code/Distracted Driver Project/Data/imgs', 'test', '*.jpg')\n",
    "test_img_list = glob.glob(test_img_path)\n",
    "for file in test_img_list:\n",
    "    file_name.append(file)\n",
    "    img = Image.open(file).convert('L')\n",
    "    height, width = img.size\n",
    "    img.thumbnail((height/16, width/16), Image.ANTIALIAS)\n",
    "    pix = np.array(img.getdata()).reshape(img.size[0], img.size[1], 1)\n",
    "    X_test.append(pix)"
   ]
  },
  {
   "cell_type": "code",
   "execution_count": 28,
   "metadata": {},
   "outputs": [],
   "source": [
    "X_test = np.array(X_test, dtype = 'float32')\n",
    "X_test = X_test / 255"
   ]
  },
  {
   "cell_type": "code",
   "execution_count": 29,
   "metadata": {
    "scrolled": false
   },
   "outputs": [
    {
     "data": {
      "text/plain": [
       "(79726, 40, 30, 1)"
      ]
     },
     "execution_count": 29,
     "metadata": {},
     "output_type": "execute_result"
    }
   ],
   "source": [
    "X_test.shape"
   ]
  },
  {
   "cell_type": "code",
   "execution_count": 44,
   "metadata": {},
   "outputs": [],
   "source": [
    "#This method predicts probablities of the class labels for the test images.\n",
    "y_proba = model_best.predict(X_test)"
   ]
  },
  {
   "cell_type": "code",
   "execution_count": 47,
   "metadata": {
    "scrolled": true
   },
   "outputs": [
    {
     "data": {
      "text/plain": [
       "array([1.88708659e-02, 8.22132919e-03, 4.84458833e-05, 1.66264713e-01,\n",
       "       1.96994049e-04, 7.93838024e-01, 5.10912760e-05, 1.37051165e-05,\n",
       "       2.95166887e-04, 1.21996030e-02], dtype=float32)"
      ]
     },
     "execution_count": 47,
     "metadata": {},
     "output_type": "execute_result"
    }
   ],
   "source": [
    "#This is an example prediction.\n",
    "y_proba[17]"
   ]
  },
  {
   "cell_type": "code",
   "execution_count": 36,
   "metadata": {},
   "outputs": [
    {
     "data": {
      "text/plain": [
       "'C:/Users/buckf/Documents/MSDS 686/Code/Distracted Driver Project/Data/imgs\\\\test\\\\img_100133.jpg'"
      ]
     },
     "execution_count": 36,
     "metadata": {},
     "output_type": "execute_result"
    }
   ],
   "source": [
    "file_name[123]"
   ]
  },
  {
   "cell_type": "code",
   "execution_count": 37,
   "metadata": {},
   "outputs": [],
   "source": [
    "#This for loop extracts the ###_img.jpg name.\n",
    "import re\n",
    "name_list = []\n",
    "for name in file_name:\n",
    "    i = re.findall(r'img_\\d*.jpg', name)\n",
    "    name_list.append(i)"
   ]
  },
  {
   "cell_type": "code",
   "execution_count": 38,
   "metadata": {},
   "outputs": [],
   "source": [
    "#The images weren't imported in any special order.\n",
    "#Consideration needs to be run so that the right classification is for \n",
    "#the right image.\n",
    "name_arr = np.array(name_list, dtype = str)"
   ]
  },
  {
   "cell_type": "code",
   "execution_count": 39,
   "metadata": {},
   "outputs": [],
   "source": [
    "#This combines the image name with the photo pixel data.\n",
    "comb_arr = np.concatenate((name_arr, y_proba), axis = 1)"
   ]
  },
  {
   "cell_type": "code",
   "execution_count": 56,
   "metadata": {},
   "outputs": [],
   "source": [
    "col = ['img', 'c0', 'c1', 'c2', 'c3', 'c4', 'c5', 'c6', 'c7', 'c8', 'c9' ]"
   ]
  },
  {
   "cell_type": "code",
   "execution_count": 57,
   "metadata": {},
   "outputs": [],
   "source": [
    "import pandas as pd"
   ]
  },
  {
   "cell_type": "code",
   "execution_count": 69,
   "metadata": {},
   "outputs": [],
   "source": [
    "sub_df = pd.DataFrame(data = comb_arr, columns=col)"
   ]
  },
  {
   "cell_type": "code",
   "execution_count": 71,
   "metadata": {},
   "outputs": [
    {
     "data": {
      "text/html": [
       "<div>\n",
       "<style scoped>\n",
       "    .dataframe tbody tr th:only-of-type {\n",
       "        vertical-align: middle;\n",
       "    }\n",
       "\n",
       "    .dataframe tbody tr th {\n",
       "        vertical-align: top;\n",
       "    }\n",
       "\n",
       "    .dataframe thead th {\n",
       "        text-align: right;\n",
       "    }\n",
       "</style>\n",
       "<table border=\"1\" class=\"dataframe\">\n",
       "  <thead>\n",
       "    <tr style=\"text-align: right;\">\n",
       "      <th></th>\n",
       "      <th>img</th>\n",
       "      <th>c0</th>\n",
       "      <th>c1</th>\n",
       "      <th>c2</th>\n",
       "      <th>c3</th>\n",
       "      <th>c4</th>\n",
       "      <th>c5</th>\n",
       "      <th>c6</th>\n",
       "      <th>c7</th>\n",
       "      <th>c8</th>\n",
       "      <th>c9</th>\n",
       "    </tr>\n",
       "  </thead>\n",
       "  <tbody>\n",
       "    <tr>\n",
       "      <th>0</th>\n",
       "      <td>img_1.jpg</td>\n",
       "      <td>2.0438597e-06</td>\n",
       "      <td>9.934503e-06</td>\n",
       "      <td>5.9435115e-06</td>\n",
       "      <td>3.904241e-06</td>\n",
       "      <td>5.515522e-06</td>\n",
       "      <td>0.9992853</td>\n",
       "      <td>3.9265277e-07</td>\n",
       "      <td>9.423262e-08</td>\n",
       "      <td>1.2718043e-08</td>\n",
       "      <td>0.0006868635</td>\n",
       "    </tr>\n",
       "    <tr>\n",
       "      <th>1</th>\n",
       "      <td>img_10.jpg</td>\n",
       "      <td>0.45002827</td>\n",
       "      <td>0.0025308898</td>\n",
       "      <td>1.1680721e-05</td>\n",
       "      <td>0.16478086</td>\n",
       "      <td>0.0001981353</td>\n",
       "      <td>0.37396947</td>\n",
       "      <td>1.94036e-05</td>\n",
       "      <td>6.5918207e-06</td>\n",
       "      <td>4.2448298e-07</td>\n",
       "      <td>0.0084543405</td>\n",
       "    </tr>\n",
       "    <tr>\n",
       "      <th>2</th>\n",
       "      <td>img_100.jpg</td>\n",
       "      <td>0.94584686</td>\n",
       "      <td>0.015857758</td>\n",
       "      <td>1.4315084e-05</td>\n",
       "      <td>0.00036729185</td>\n",
       "      <td>0.00022708949</td>\n",
       "      <td>8.203071e-05</td>\n",
       "      <td>0.0036602553</td>\n",
       "      <td>0.00066024036</td>\n",
       "      <td>0.00046421096</td>\n",
       "      <td>0.032819893</td>\n",
       "    </tr>\n",
       "    <tr>\n",
       "      <th>3</th>\n",
       "      <td>img_1000.jpg</td>\n",
       "      <td>0.0052840337</td>\n",
       "      <td>0.0038581877</td>\n",
       "      <td>0.84841454</td>\n",
       "      <td>0.00010542589</td>\n",
       "      <td>0.0068388823</td>\n",
       "      <td>0.00012806791</td>\n",
       "      <td>0.024246158</td>\n",
       "      <td>0.010020705</td>\n",
       "      <td>0.100268975</td>\n",
       "      <td>0.00083504955</td>\n",
       "    </tr>\n",
       "    <tr>\n",
       "      <th>4</th>\n",
       "      <td>img_100000.jpg</td>\n",
       "      <td>9.892503e-07</td>\n",
       "      <td>1.0097832e-05</td>\n",
       "      <td>3.1131153e-10</td>\n",
       "      <td>1.810496e-05</td>\n",
       "      <td>0.0001584833</td>\n",
       "      <td>0.9932019</td>\n",
       "      <td>4.6608886e-07</td>\n",
       "      <td>9.937115e-07</td>\n",
       "      <td>1.5045466e-09</td>\n",
       "      <td>0.006609078</td>\n",
       "    </tr>\n",
       "    <tr>\n",
       "      <th>5</th>\n",
       "      <td>img_100001.jpg</td>\n",
       "      <td>0.027148563</td>\n",
       "      <td>0.009849146</td>\n",
       "      <td>6.4907476e-06</td>\n",
       "      <td>0.0027533574</td>\n",
       "      <td>0.010897245</td>\n",
       "      <td>0.08656622</td>\n",
       "      <td>4.1349836e-06</td>\n",
       "      <td>6.442033e-05</td>\n",
       "      <td>4.7662023e-05</td>\n",
       "      <td>0.8626628</td>\n",
       "    </tr>\n",
       "    <tr>\n",
       "      <th>6</th>\n",
       "      <td>img_100002.jpg</td>\n",
       "      <td>0.009342503</td>\n",
       "      <td>0.0039262893</td>\n",
       "      <td>0.0001567801</td>\n",
       "      <td>3.3457472e-05</td>\n",
       "      <td>0.9728333</td>\n",
       "      <td>0.0016804618</td>\n",
       "      <td>0.0002199358</td>\n",
       "      <td>0.00029329205</td>\n",
       "      <td>0.00956131</td>\n",
       "      <td>0.0019528718</td>\n",
       "    </tr>\n",
       "    <tr>\n",
       "      <th>7</th>\n",
       "      <td>img_100003.jpg</td>\n",
       "      <td>0.0012389047</td>\n",
       "      <td>0.032126214</td>\n",
       "      <td>4.4098255e-07</td>\n",
       "      <td>5.168526e-05</td>\n",
       "      <td>0.015199028</td>\n",
       "      <td>0.07704299</td>\n",
       "      <td>5.8812366e-06</td>\n",
       "      <td>2.4961724e-07</td>\n",
       "      <td>0.0009741371</td>\n",
       "      <td>0.87336046</td>\n",
       "    </tr>\n",
       "    <tr>\n",
       "      <th>8</th>\n",
       "      <td>img_100004.jpg</td>\n",
       "      <td>0.001145372</td>\n",
       "      <td>0.023466986</td>\n",
       "      <td>0.034411527</td>\n",
       "      <td>0.002289662</td>\n",
       "      <td>0.004667882</td>\n",
       "      <td>0.12721258</td>\n",
       "      <td>0.7783934</td>\n",
       "      <td>5.8744103e-05</td>\n",
       "      <td>0.0040463624</td>\n",
       "      <td>0.024307447</td>\n",
       "    </tr>\n",
       "    <tr>\n",
       "      <th>9</th>\n",
       "      <td>img_100005.jpg</td>\n",
       "      <td>0.00039613218</td>\n",
       "      <td>0.0020137492</td>\n",
       "      <td>3.1907082e-06</td>\n",
       "      <td>1.7332645e-06</td>\n",
       "      <td>0.004275528</td>\n",
       "      <td>0.0048285136</td>\n",
       "      <td>0.0008634443</td>\n",
       "      <td>0.9865378</td>\n",
       "      <td>4.6879084e-08</td>\n",
       "      <td>0.0010798073</td>\n",
       "    </tr>\n",
       "  </tbody>\n",
       "</table>\n",
       "</div>"
      ],
      "text/plain": [
       "              img             c0             c1             c2             c3  \\\n",
       "0       img_1.jpg  2.0438597e-06   9.934503e-06  5.9435115e-06   3.904241e-06   \n",
       "1      img_10.jpg     0.45002827   0.0025308898  1.1680721e-05     0.16478086   \n",
       "2     img_100.jpg     0.94584686    0.015857758  1.4315084e-05  0.00036729185   \n",
       "3    img_1000.jpg   0.0052840337   0.0038581877     0.84841454  0.00010542589   \n",
       "4  img_100000.jpg   9.892503e-07  1.0097832e-05  3.1131153e-10   1.810496e-05   \n",
       "5  img_100001.jpg    0.027148563    0.009849146  6.4907476e-06   0.0027533574   \n",
       "6  img_100002.jpg    0.009342503   0.0039262893   0.0001567801  3.3457472e-05   \n",
       "7  img_100003.jpg   0.0012389047    0.032126214  4.4098255e-07   5.168526e-05   \n",
       "8  img_100004.jpg    0.001145372    0.023466986    0.034411527    0.002289662   \n",
       "9  img_100005.jpg  0.00039613218   0.0020137492  3.1907082e-06  1.7332645e-06   \n",
       "\n",
       "              c4             c5             c6             c7             c8  \\\n",
       "0   5.515522e-06      0.9992853  3.9265277e-07   9.423262e-08  1.2718043e-08   \n",
       "1   0.0001981353     0.37396947    1.94036e-05  6.5918207e-06  4.2448298e-07   \n",
       "2  0.00022708949   8.203071e-05   0.0036602553  0.00066024036  0.00046421096   \n",
       "3   0.0068388823  0.00012806791    0.024246158    0.010020705    0.100268975   \n",
       "4   0.0001584833      0.9932019  4.6608886e-07   9.937115e-07  1.5045466e-09   \n",
       "5    0.010897245     0.08656622  4.1349836e-06   6.442033e-05  4.7662023e-05   \n",
       "6      0.9728333   0.0016804618   0.0002199358  0.00029329205     0.00956131   \n",
       "7    0.015199028     0.07704299  5.8812366e-06  2.4961724e-07   0.0009741371   \n",
       "8    0.004667882     0.12721258      0.7783934  5.8744103e-05   0.0040463624   \n",
       "9    0.004275528   0.0048285136   0.0008634443      0.9865378  4.6879084e-08   \n",
       "\n",
       "              c9  \n",
       "0   0.0006868635  \n",
       "1   0.0084543405  \n",
       "2    0.032819893  \n",
       "3  0.00083504955  \n",
       "4    0.006609078  \n",
       "5      0.8626628  \n",
       "6   0.0019528718  \n",
       "7     0.87336046  \n",
       "8    0.024307447  \n",
       "9   0.0010798073  "
      ]
     },
     "execution_count": 71,
     "metadata": {},
     "output_type": "execute_result"
    }
   ],
   "source": [
    "sub_df.head(10)"
   ]
  },
  {
   "cell_type": "code",
   "execution_count": 72,
   "metadata": {},
   "outputs": [],
   "source": [
    "#This was the file to be submitted to Kaggle to be scored.\n",
    "sub_df.to_csv('submission.csv', index = False)"
   ]
  }
 ],
 "metadata": {
  "kernelspec": {
   "display_name": "Python 3",
   "language": "python",
   "name": "python3"
  },
  "language_info": {
   "codemirror_mode": {
    "name": "ipython",
    "version": 3
   },
   "file_extension": ".py",
   "mimetype": "text/x-python",
   "name": "python",
   "nbconvert_exporter": "python",
   "pygments_lexer": "ipython3",
   "version": "3.6.4"
  }
 },
 "nbformat": 4,
 "nbformat_minor": 2
}
